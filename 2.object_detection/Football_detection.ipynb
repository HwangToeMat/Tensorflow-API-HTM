{
 "cells": [
  {
   "cell_type": "markdown",
   "metadata": {},
   "source": [
    " # Football play detection"
   ]
  },
  {
   "cell_type": "markdown",
   "metadata": {},
   "source": [
    "### Taeho KIM, Kyung Hee UNIV. <a href=\"https://github.com/HwangToeMat\">GitHub Link</a>"
   ]
  },
  {
   "cell_type": "markdown",
   "metadata": {},
   "source": [
    "## Data"
   ]
  },
  {
   "cell_type": "markdown",
   "metadata": {},
   "source": [
    "### download"
   ]
  },
  {
   "cell_type": "markdown",
   "metadata": {},
   "source": [
    "**EasyDownloader [<a href=\"https://github.com/HwangToeMat/Open-Images_EasyDownload\">GitHub Link</a>]**\n",
    "```\n",
    "python ../0.Open-Images_EasyDownload/EasyDownloader.py\n",
    "    --category \"Football\"\n",
    "    --category \"Person\"\n",
    "    --type \"inter\"\n",
    "```"
   ]
  },
  {
   "cell_type": "markdown",
   "metadata": {},
   "source": [
    "### tf_record"
   ]
  },
  {
   "cell_type": "markdown",
   "metadata": {},
   "source": [
    "**label_map**\n",
    "```\n",
    "Football_label_map.pbtxt\n",
    "------------------------------------------------\n",
    "item {\n",
    "  name: \"/m/01226z\"\n",
    "  id: 1\n",
    "  display_name: \"Football\"\n",
    "}\n",
    "item {\n",
    "  name: \"/m/01g317\"\n",
    "  id: 2\n",
    "  display_name: \"Person\"\n",
    "}\n",
    "```"
   ]
  },
  {
   "cell_type": "markdown",
   "metadata": {},
   "source": [
    "**usage**\n",
    "```\n",
    "python create_Football_tf_record.py\n",
    "    --data_dir=../0.Open-Images_EasyDownload/train_data/images\n",
    "    --output_dir=./Football_tf_record\n",
    "    --label_map_path=./Football_label_map.pbtxt\n",
    "```"
   ]
  },
  {
   "cell_type": "markdown",
   "metadata": {},
   "source": [
    "## Train"
   ]
  },
  {
   "cell_type": "markdown",
   "metadata": {},
   "source": [
    "### model"
   ]
  },
  {
   "cell_type": "markdown",
   "metadata": {},
   "source": [
    "**ssdlite_mobilenet_v2_coco[<a href=\"http://download.tensorflow.org/models/object_detection/ssdlite_mobilenet_v2_coco_2018_05_09.tar.gz\">Download Link</a>]**\n"
   ]
  },
  {
   "cell_type": "markdown",
   "metadata": {},
   "source": [
    "### config"
   ]
  },
  {
   "cell_type": "markdown",
   "metadata": {},
   "source": []
  }
 ],
 "metadata": {
  "kernelspec": {
   "display_name": "Python 3",
   "language": "python",
   "name": "python3"
  },
  "language_info": {
   "codemirror_mode": {
    "name": "ipython",
    "version": 3
   },
   "file_extension": ".py",
   "mimetype": "text/x-python",
   "name": "python",
   "nbconvert_exporter": "python",
   "pygments_lexer": "ipython3",
   "version": "3.7.3"
  }
 },
 "nbformat": 4,
 "nbformat_minor": 2
}
