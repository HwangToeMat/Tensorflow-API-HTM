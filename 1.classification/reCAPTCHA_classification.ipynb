{
 "cells": [
  {
   "cell_type": "markdown",
   "metadata": {},
   "source": [
    "# Break through the reCAPTCHA"
   ]
  },
  {
   "cell_type": "markdown",
   "metadata": {},
   "source": [
    "### Taeho KIM, Kyung Hee UNIV. <a href=\"https://github.com/HwangToeMat\">GitHub 주소</a>"
   ]
  },
  {
   "cell_type": "code",
   "execution_count": 1,
   "metadata": {},
   "outputs": [],
   "source": [
    "# Copyright 2015 The TensorFlow Authors. All Rights Reserved.\n",
    "#\n",
    "# Licensed under the Apache License, Version 2.0 (the \"License\");\n",
    "# you may not use this file except in compliance with the License.\n",
    "# You may obtain a copy of the License at\n",
    "#\n",
    "#     http://www.apache.org/licenses/LICENSE-2.0\n",
    "#\n",
    "# Unless required by applicable law or agreed to in writing, software\n",
    "# distributed under the License is distributed on an \"AS IS\" BASIS,\n",
    "# WITHOUT WARRANTIES OR CONDITIONS OF ANY KIND, either express or implied.\n",
    "# See the License for the specific language governing permissions and\n",
    "# limitations under the License.\n",
    "# ==============================================================================\n",
    "\n",
    "from __future__ import absolute_import\n",
    "from __future__ import division\n",
    "from __future__ import print_function\n",
    "\n",
    "import os.path\n",
    "import re\n",
    "import sys\n",
    "import tarfile\n",
    "\n",
    "import numpy as np\n",
    "from six.moves import urllib\n",
    "import tensorflow as tf\n",
    "\n",
    "# pylint: disable=line-too-long\n",
    "DATA_URL = 'http://download.tensorflow.org/models/image/imagenet/inception-2015-12-05.tgz'\n",
    "# pylint: enable=line-too-long\n",
    "\n",
    "\n",
    "class NodeLookup(object):\n",
    "    \"\"\"Converts integer node ID's to human readable labels.\"\"\"\n",
    "\n",
    "    def __init__(self,\n",
    "                 label_lookup_path=None,\n",
    "                 uid_lookup_path=None):\n",
    "        if not label_lookup_path:\n",
    "            label_lookup_path = os.path.join(\n",
    "                'model', 'imagenet_2012_challenge_label_map_proto.pbtxt')\n",
    "        if not uid_lookup_path:\n",
    "            uid_lookup_path = os.path.join(\n",
    "                'model', 'imagenet_synset_to_human_label_map.txt')\n",
    "        self.node_lookup = self.load(label_lookup_path, uid_lookup_path)\n",
    "\n",
    "    def load(self, label_lookup_path, uid_lookup_path):\n",
    "        \"\"\"Loads a human readable English name for each softmax node.\n",
    "\n",
    "        Args:\n",
    "          label_lookup_path: string UID to integer node ID.\n",
    "          uid_lookup_path: string UID to human-readable string.\n",
    "\n",
    "        Returns:\n",
    "          dict from integer node ID to human-readable string.\n",
    "        \"\"\"\n",
    "        if not tf.gfile.Exists(uid_lookup_path):\n",
    "            tf.logging.fatal('File does not exist %s', uid_lookup_path)\n",
    "        if not tf.gfile.Exists(label_lookup_path):\n",
    "            tf.logging.fatal('File does not exist %s', label_lookup_path)\n",
    "\n",
    "        # Loads mapping from string UID to human-readable string\n",
    "        proto_as_ascii_lines = tf.gfile.GFile(uid_lookup_path).readlines()\n",
    "        uid_to_human = {}\n",
    "        p = re.compile(r'[n\\d]*[ \\S,]*')\n",
    "        for line in proto_as_ascii_lines:\n",
    "            parsed_items = p.findall(line)\n",
    "            uid = parsed_items[0]\n",
    "            human_string = parsed_items[2]\n",
    "            uid_to_human[uid] = human_string\n",
    "\n",
    "        # Loads mapping from string UID to integer node ID.\n",
    "        node_id_to_uid = {}\n",
    "        proto_as_ascii = tf.gfile.GFile(label_lookup_path).readlines()\n",
    "        for line in proto_as_ascii:\n",
    "            if line.startswith('  target_class:'):\n",
    "                target_class = int(line.split(': ')[1])\n",
    "            if line.startswith('  target_class_string:'):\n",
    "                target_class_string = line.split(': ')[1]\n",
    "                node_id_to_uid[target_class] = target_class_string[1:-2]\n",
    "\n",
    "        # Loads the final mapping of integer node ID to human-readable string\n",
    "        node_id_to_name = {}\n",
    "        for key, val in node_id_to_uid.items():\n",
    "            if val not in uid_to_human:\n",
    "                tf.logging.fatal('Failed to locate: %s', val)\n",
    "            name = uid_to_human[val]\n",
    "            node_id_to_name[key] = name\n",
    "\n",
    "        return node_id_to_name\n",
    "\n",
    "    def id_to_string(self, node_id):\n",
    "        if node_id not in self.node_lookup:\n",
    "            return ''\n",
    "        return self.node_lookup[node_id]\n",
    "\n",
    "\n",
    "def create_graph():\n",
    "    \"\"\"Creates a graph from saved GraphDef file and returns a saver.\"\"\"\n",
    "    # Creates graph from saved graph_def.pb.\n",
    "    with tf.gfile.FastGFile(os.path.join(\n",
    "            'model', 'classify_image_graph_def.pb'), 'rb') as f:\n",
    "        graph_def = tf.GraphDef()\n",
    "        graph_def.ParseFromString(f.read())\n",
    "        _ = tf.import_graph_def(graph_def, name='')\n",
    "\n",
    "\n",
    "def run_inference_on_image(image):\n",
    "    \"\"\"Runs inference on an image.\n",
    "\n",
    "    Args:\n",
    "      image: Image file name.\n",
    "\n",
    "    Returns:\n",
    "      Nothing\n",
    "    \"\"\"\n",
    "    if not tf.gfile.Exists(image):\n",
    "        tf.logging.fatal('File does not exist %s', image)\n",
    "    image_data = tf.gfile.FastGFile(image, 'rb').read()\n",
    "\n",
    "    # Creates graph from saved GraphDef.\n",
    "    create_graph()\n",
    "\n",
    "    with tf.Session() as sess:\n",
    "        # Some useful tensors:\n",
    "        # 'softmax:0': A tensor containing the normalized prediction across\n",
    "        #   1000 labels.\n",
    "        # 'pool_3:0': A tensor containing the next-to-last layer containing 2048\n",
    "        #   float description of the image.\n",
    "        # 'DecodeJpeg/contents:0': A tensor containing a string providing JPEG\n",
    "        #   encoding of the image.\n",
    "        # Runs the softmax tensor by feeding the image_data as input to the graph.\n",
    "        softmax_tensor = sess.graph.get_tensor_by_name('softmax:0')\n",
    "        predictions = sess.run(softmax_tensor,\n",
    "                               {'DecodeJpeg/contents:0': image_data})\n",
    "        predictions = np.squeeze(predictions)\n",
    "\n",
    "        # Creates node ID --> English string lookup.\n",
    "        node_lookup = NodeLookup()\n",
    "\n",
    "        top_k = predictions.argsort()[-5:][::-1]\n",
    "        for node_id in top_k:\n",
    "            human_string = node_lookup.id_to_string(node_id)\n",
    "            score = predictions[node_id]\n",
    "            print('%s (score = %.5f)' % (human_string, score))\n",
    "\n",
    "\n",
    "def maybe_download_and_extract():\n",
    "    \"\"\"Download and extract model tar file.\"\"\"\n",
    "    dest_directory = 'model'\n",
    "    if not os.path.exists(dest_directory):\n",
    "        os.makedirs(dest_directory)\n",
    "    filename = DATA_URL.split('/')[-1]\n",
    "    filepath = os.path.join(dest_directory, filename)\n",
    "    if not os.path.exists(filepath):\n",
    "        def _progress(count, block_size, total_size):\n",
    "            sys.stdout.write('\\r>> Downloading %s %.1f%%' % (\n",
    "                filename, float(count * block_size) / float(total_size) * 100.0))\n",
    "            sys.stdout.flush()\n",
    "        filepath, _ = urllib.request.urlretrieve(DATA_URL, filepath, _progress)\n",
    "        print()\n",
    "        statinfo = os.stat(filepath)\n",
    "        print('Successfully downloaded', filename, statinfo.st_size, 'bytes.')\n",
    "    tarfile.open(filepath, 'r:gz').extractall(dest_directory)"
   ]
  },
  {
   "cell_type": "markdown",
   "metadata": {},
   "source": [
    "## load model\n",
    "- default model >>\n",
    "DATA_URL = 'http://download.tensorflow.org/models/image/imagenet/inception-2015-12-05.tgz'\n",
    "\n",
    "- any model you want >>\n",
    "DATA_URL = 'XXX'"
   ]
  },
  {
   "cell_type": "code",
   "execution_count": 2,
   "metadata": {
    "colab": {
     "base_uri": "https://localhost:8080/",
     "height": 170
    },
    "colab_type": "code",
    "executionInfo": {
     "elapsed": 2853,
     "status": "error",
     "timestamp": 1582384845952,
     "user": {
      "displayName": "김태호",
      "photoUrl": "",
      "userId": "04296058949897289482"
     },
     "user_tz": -540
    },
    "id": "zHhqXfN-cdjY",
    "outputId": "2beb0050-0119-4f3d-9257-5b381bf023a4"
   },
   "outputs": [
    {
     "name": "stdout",
     "output_type": "stream",
     "text": [
      ">> Downloading inception-2015-12-05.tgz 100.0%\n",
      "Successfully downloaded inception-2015-12-05.tgz 88931400 bytes.\n"
     ]
    }
   ],
   "source": [
    "DATA_URL = 'http://download.tensorflow.org/models/image/imagenet/inception-2015-12-05.tgz'\n",
    "maybe_download_and_extract()"
   ]
  },
  {
   "cell_type": "markdown",
   "metadata": {},
   "source": [
    "## image classification"
   ]
  },
  {
   "cell_type": "code",
   "execution_count": 3,
   "metadata": {
    "colab": {},
    "colab_type": "code",
    "id": "cNxy66BTcds0"
   },
   "outputs": [
    {
     "name": "stderr",
     "output_type": "stream",
     "text": [
      "WARNING: Logging before flag parsing goes to stderr.\n",
      "W0223 01:16:52.946979 18048 deprecation.py:323] From <ipython-input-1-c247859a12c4>:123: FastGFile.__init__ (from tensorflow.python.platform.gfile) is deprecated and will be removed in a future version.\n",
      "Instructions for updating:\n",
      "Use tf.gfile.GFile.\n"
     ]
    },
    {
     "name": "stdout",
     "output_type": "stream",
     "text": [
      "moving van (score = 0.73877)\n",
      "golfcart, golf cart (score = 0.04019)\n",
      "mobile home, manufactured home (score = 0.01723)\n",
      "trolleybus, trolley coach, trackless trolley (score = 0.01485)\n",
      "recreational vehicle, RV, R.V. (score = 0.01232)\n"
     ]
    }
   ],
   "source": [
    "run_inference_on_image('image/reCAPTCHA1.png')"
   ]
  },
  {
   "cell_type": "code",
   "execution_count": 4,
   "metadata": {},
   "outputs": [
    {
     "name": "stdout",
     "output_type": "stream",
     "text": [
      "trailer truck, tractor trailer, trucking rig, rig, articulated lorry, semi (score = 0.26690)\n",
      "seashore, coast, seacoast, sea-coast (score = 0.08148)\n",
      "screen, CRT screen (score = 0.06434)\n",
      "moving van (score = 0.04228)\n",
      "mobile home, manufactured home (score = 0.03318)\n"
     ]
    }
   ],
   "source": [
    "run_inference_on_image('image/reCAPTCHA2.png')"
   ]
  },
  {
   "cell_type": "code",
   "execution_count": 5,
   "metadata": {},
   "outputs": [
    {
     "name": "stdout",
     "output_type": "stream",
     "text": [
      "minivan (score = 0.27316)\n",
      "limousine, limo (score = 0.15485)\n",
      "convertible (score = 0.03864)\n",
      "beach wagon, station wagon, wagon, estate car, beach waggon, station waggon, waggon (score = 0.03772)\n",
      "moving van (score = 0.03242)\n"
     ]
    }
   ],
   "source": [
    "run_inference_on_image('image/reCAPTCHA3.png')"
   ]
  },
  {
   "cell_type": "code",
   "execution_count": 6,
   "metadata": {},
   "outputs": [
    {
     "name": "stdout",
     "output_type": "stream",
     "text": [
      "airliner (score = 0.09025)\n",
      "trailer truck, tractor trailer, trucking rig, rig, articulated lorry, semi (score = 0.08313)\n",
      "traffic light, traffic signal, stoplight (score = 0.08120)\n",
      "minivan (score = 0.07874)\n",
      "tow truck, tow car, wrecker (score = 0.05683)\n"
     ]
    }
   ],
   "source": [
    "run_inference_on_image('image/reCAPTCHA4.png')"
   ]
  },
  {
   "cell_type": "code",
   "execution_count": 7,
   "metadata": {},
   "outputs": [
    {
     "name": "stdout",
     "output_type": "stream",
     "text": [
      "seashore, coast, seacoast, sea-coast (score = 0.29206)\n",
      "aircraft carrier, carrier, flattop, attack aircraft carrier (score = 0.08607)\n",
      "lakeside, lakeshore (score = 0.06951)\n",
      "airliner (score = 0.05057)\n",
      "mobile home, manufactured home (score = 0.03011)\n"
     ]
    }
   ],
   "source": [
    "run_inference_on_image('image/reCAPTCHA5.png')"
   ]
  },
  {
   "cell_type": "code",
   "execution_count": 8,
   "metadata": {},
   "outputs": [
    {
     "name": "stdout",
     "output_type": "stream",
     "text": [
      "moving van (score = 0.18085)\n",
      "seashore, coast, seacoast, sea-coast (score = 0.15978)\n",
      "mobile home, manufactured home (score = 0.11563)\n",
      "steel arch bridge (score = 0.04356)\n",
      "worm fence, snake fence, snake-rail fence, Virginia fence (score = 0.03528)\n"
     ]
    }
   ],
   "source": [
    "run_inference_on_image('image/reCAPTCHA6.png')"
   ]
  },
  {
   "cell_type": "code",
   "execution_count": 9,
   "metadata": {},
   "outputs": [
    {
     "name": "stdout",
     "output_type": "stream",
     "text": [
      "school bus (score = 0.94535)\n",
      "amphibian, amphibious vehicle (score = 0.00103)\n",
      "trolleybus, trolley coach, trackless trolley (score = 0.00101)\n",
      "passenger car, coach, carriage (score = 0.00091)\n",
      "streetcar, tram, tramcar, trolley, trolley car (score = 0.00088)\n"
     ]
    }
   ],
   "source": [
    "run_inference_on_image('image/reCAPTCHA7.png')"
   ]
  },
  {
   "cell_type": "code",
   "execution_count": 10,
   "metadata": {},
   "outputs": [
    {
     "name": "stdout",
     "output_type": "stream",
     "text": [
      "seashore, coast, seacoast, sea-coast (score = 0.23562)\n",
      "sandbar, sand bar (score = 0.10286)\n",
      "yawl (score = 0.07008)\n",
      "airliner (score = 0.03950)\n",
      "promontory, headland, head, foreland (score = 0.02806)\n"
     ]
    }
   ],
   "source": [
    "run_inference_on_image('image/reCAPTCHA8.png')"
   ]
  },
  {
   "cell_type": "code",
   "execution_count": 11,
   "metadata": {},
   "outputs": [
    {
     "name": "stdout",
     "output_type": "stream",
     "text": [
      "school bus (score = 0.92765)\n",
      "moving van (score = 0.00156)\n",
      "trolleybus, trolley coach, trackless trolley (score = 0.00152)\n",
      "tobacco shop, tobacconist shop, tobacconist (score = 0.00088)\n",
      "thresher, thrasher, threshing machine (score = 0.00087)\n"
     ]
    }
   ],
   "source": [
    "run_inference_on_image('image/reCAPTCHA9.png')"
   ]
  }
 ],
 "metadata": {
  "accelerator": "GPU",
  "colab": {
   "collapsed_sections": [],
   "machine_shape": "hm",
   "name": "reCAPTCHA_classification.ipynb",
   "provenance": []
  },
  "kernelspec": {
   "display_name": "Python 3",
   "language": "python",
   "name": "python3"
  },
  "language_info": {
   "codemirror_mode": {
    "name": "ipython",
    "version": 3
   },
   "file_extension": ".py",
   "mimetype": "text/x-python",
   "name": "python",
   "nbconvert_exporter": "python",
   "pygments_lexer": "ipython3",
   "version": "3.7.3"
  }
 },
 "nbformat": 4,
 "nbformat_minor": 1
}
